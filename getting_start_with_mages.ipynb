{
 "cells": [
  {
   "cell_type": "code",
   "execution_count": 1,
   "metadata": {},
   "outputs": [],
   "source": [
    "import os\n",
    "import cv2\n",
    "import numpy as np \n",
    "import matplotlib.pyplot as plt\n",
    "\n",
    "from zipfile import ZipFile\n",
    "from urllib.request import urlretrieve\n",
    "from IPython.display import Image\n",
    "%matplotlib inline"
   ]
  },
  {
   "cell_type": "code",
   "execution_count": 2,
   "metadata": {},
   "outputs": [],
   "source": [
    "def download_and_zip(url,save_path):\n",
    "    print(f\"Downloading and extracting assets...\",end=\"\")\n",
    "    urlretrieve(url,save_path)\n",
    "    try:\n",
    "        with ZipFile(save_path)as z:\n",
    "            z.extractall(os.path.split(save_path)[0])\n",
    "        print(\"Done\")\n",
    "    except Exception as e:\n",
    "        print(\"\\nInvalid file.\", e)\n"
   ]
  },
  {
   "cell_type": "code",
   "execution_count": 3,
   "metadata": {},
   "outputs": [],
   "source": [
    "URL = r\"https://www.dropbox.com/s/qhhlqcica1nvtaw/opencv_bootcamp_assets_NB1.zip?dl=1\"\n",
    "\n",
    "asset_zip_file = os.path.join(os.getcwd(),f\"opencv_bootcamp__asssets_NB1.zip\")\n",
    "\n",
    "if not os.path.exists(asset_zip_file):\n",
    "    download_and_zip(URL,asset_zip_file)"
   ]
  },
  {
   "cell_type": "markdown",
   "metadata": {},
   "source": [
    "## Display Image Directly"
   ]
  },
  {
   "cell_type": "code",
   "execution_count": 9,
   "metadata": {},
   "outputs": [
    {
     "data": {
      "image/png": "[encoded data removed]",
      "text/plain": [
       "<IPython.core.display.Image object>"
      ]
     },
     "execution_count": 9,
     "metadata": {},
     "output_type": "execute_result"
    }
   ],
   "source": [
    "Image(filename=\"checkerboard_18x18.png\")"
   ]
  },
  {
   "cell_type": "code",
   "execution_count": 10,
   "metadata": {},
   "outputs": [
    {
     "data": {
      "image/jpeg": "[encoded data removed]",
      "text/plain": [
       "<IPython.core.display.Image object>"
      ]
     },
     "execution_count": 10,
     "metadata": {},
     "output_type": "execute_result"
    }
   ],
   "source": [
    "Image(filename=\"checkerboard_84x84.jpg\")"
   ]
  },
  {
   "cell_type": "markdown",
   "metadata": {},
   "source": [
    "## Reading images using OpenCV"
   ]
  },
  {
   "cell_type": "code",
   "execution_count": 11,
   "metadata": {},
   "outputs": [
    {
     "name": "stdout",
     "output_type": "stream",
     "text": [
      "[[  0   0   0   0   0   0 255 255 255 255 255 255   0   0   0   0   0   0]\n",
      " [  0   0   0   0   0   0 255 255 255 255 255 255   0   0   0   0   0   0]\n",
      " [  0   0   0   0   0   0 255 255 255 255 255 255   0   0   0   0   0   0]\n",
      " [  0   0   0   0   0   0 255 255 255 255 255 255   0   0   0   0   0   0]\n",
      " [  0   0   0   0   0   0 255 255 255 255 255 255   0   0   0   0   0   0]\n",
      " [  0   0   0   0   0   0 255 255 255 255 255 255   0   0   0   0   0   0]\n",
      " [255 255 255 255 255 255   0   0   0   0   0   0 255 255 255 255 255 255]\n",
      " [255 255 255 255 255 255   0   0   0   0   0   0 255 255 255 255 255 255]\n",
      " [255 255 255 255 255 255   0   0   0   0   0   0 255 255 255 255 255 255]\n",
      " [255 255 255 255 255 255   0   0   0   0   0   0 255 255 255 255 255 255]\n",
      " [255 255 255 255 255 255   0   0   0   0   0   0 255 255 255 255 255 255]\n",
      " [255 255 255 255 255 255   0   0   0   0   0   0 255 255 255 255 255 255]\n",
      " [  0   0   0   0   0   0 255 255 255 255 255 255   0   0   0   0   0   0]\n",
      " [  0   0   0   0   0   0 255 255 255 255 255 255   0   0   0   0   0   0]\n",
      " [  0   0   0   0   0   0 255 255 255 255 255 255   0   0   0   0   0   0]\n",
      " [  0   0   0   0   0   0 255 255 255 255 255 255   0   0   0   0   0   0]\n",
      " [  0   0   0   0   0   0 255 255 255 255 255 255   0   0   0   0   0   0]\n",
      " [  0   0   0   0   0   0 255 255 255 255 255 255   0   0   0   0   0   0]]\n"
     ]
    }
   ],
   "source": [
    "cb_img = cv2.imread(\"checkerboard_18x18.png\",0)\n",
    "print(cb_img)"
   ]
  },
  {
   "cell_type": "code",
   "execution_count": 12,
   "metadata": {},
   "outputs": [
    {
     "name": "stdout",
     "output_type": "stream",
     "text": [
      "IMG size(H,W): (18, 18)\n"
     ]
    }
   ],
   "source": [
    "print(\"IMG size(H,W):\",cb_img.shape)"
   ]
  },
  {
   "cell_type": "code",
   "execution_count": 14,
   "metadata": {},
   "outputs": [
    {
     "data": {
      "image/png": "[encoded data removed]",
      "text/plain": [
       "<Figure size 640x480 with 1 Axes>"
      ]
     },
     "metadata": {},
     "output_type": "display_data"
    }
   ],
   "source": [
    "plt.imshow(cb_img)\n",
    "plt.axis(\"off\")\n",
    "plt.show()"
   ]
  },
  {
   "cell_type": "code",
   "execution_count": 15,
   "metadata": {},
   "outputs": [
    {
     "data": {
      "image/png": "[encoded data removed]",
      "text/plain": [
       "<Figure size 640x480 with 1 Axes>"
      ]
     },
     "metadata": {},
     "output_type": "display_data"
    }
   ],
   "source": [
    "plt.imshow(cb_img,cmap=\"gray\")\n",
    "plt.axis(\"off\")\n",
    "plt.show()"
   ]
  },
  {
   "cell_type": "code",
   "execution_count": null,
   "metadata": {},
   "outputs": [],
   "source": []
  }
 ],
 "metadata": {
  "kernelspec": {
   "display_name": "opencv-env",
   "language": "python",
   "name": "python3"
  },
  "language_info": {
   "codemirror_mode": {
    "name": "ipython",
    "version": 3
   },
   "file_extension": ".py",
   "mimetype": "text/x-python",
   "name": "python",
   "nbconvert_exporter": "python",
   "pygments_lexer": "ipython3",
   "version": "3.13.2"
  }
 },
 "nbformat": 4,
 "nbformat_minor": 2
}
